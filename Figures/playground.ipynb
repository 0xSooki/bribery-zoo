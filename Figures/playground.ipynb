{
 "cells": [
  {
   "cell_type": "code",
   "execution_count": 29,
   "id": "c2b11dae-ee69-41f0-9fef-e81083f9a090",
   "metadata": {},
   "outputs": [],
   "source": [
    "## Imports\n",
    "import math"
   ]
  },
  {
   "cell_type": "code",
   "execution_count": 30,
   "id": "38609594-b1f0-4da1-bc60-93c27dcd2e72",
   "metadata": {},
   "outputs": [],
   "source": [
    "## Pay-to-exit research questions\n",
    "## RQ1 For an adversary with \\alpha stake, how much does it need to pay to\n",
    "## exiting validators to achieve \\alpha'\\leq0.33 stake in the system? In this scenario the adversary would \n",
    "## reimburse all expected rewards to the validator for the next 1-2-3 (TBD) years (discounted at present value).\n",
    "## RQ2 The same as in RQ1 but the adversary only reimburses the opportunity cost, i.e.,\n",
    "## say the difference between validator rewards - Uniswap LP rewards (assuming Uniswap LP is the 2nd best option for validators)."
   ]
  },
  {
   "cell_type": "code",
   "execution_count": 31,
   "id": "f7b0a696-cb79-45be-b2b9-0654db76d550",
   "metadata": {},
   "outputs": [],
   "source": [
    "## Best resource on the protocol: https://eth2book.info/latest/book.pdf"
   ]
  },
  {
   "cell_type": "code",
   "execution_count": 32,
   "id": "630b6fcc-fc1b-4311-8dc1-e18a6c1f96bf",
   "metadata": {},
   "outputs": [],
   "source": [
    "## Pay-to-fork research questions\n",
    "## RQ1 how much the adversary needs to pay for buying X attestations?\n",
    "## RQ2 Same as RQ1 but the adversary also needs to cover attestation equivocation penalties for these X bought attestations."
   ]
  },
  {
   "cell_type": "code",
   "execution_count": 33,
   "id": "8c70214a-3462-4770-a8d8-f75349fbbb24",
   "metadata": {},
   "outputs": [],
   "source": [
    "## Some constants that we deem given (maybe periodically update)\n",
    "stakedETHamount = 34385053 ## (2025.04.01) taken from here https://dune.com/hildobby/eth2-staking \n",
    "noOfValidators = 1074533 ## (2025.04.01) taken from here https://dune.com/hildobby/eth2-staking\n",
    "noEpochsPerYear = 82181.25\n",
    "maxIssuancePerYear = 940.8659*math.sqrt(noOfValidators)\n",
    "APR = 2940.21/math.sqrt(noOfValidators)\n",
    "proposerReward = 0\n",
    "attestationReward = 0\n",
    "W_s = 14 # weights page 100\n",
    "W_t = 26\n",
    "W_h = 14\n",
    "W_y = 3 ## sync reward weight\n",
    "W_p = 12.5 ## proposer weight\n",
    "W_Sigma = 64 ## defined at page 109\n",
    "T = stakedETHamount ## defined at page 102\n",
    "n = 32 ## number of increments (the validator's balance is assumed to be 32 ETH uniformly (for the sake of simplicity))\n",
    "base_reward_factor = 64 ## https://ethereum.stackexchange.com/questions/153722/base-reward-formula-enquiry\n",
    "b = (1000000000*base_reward_factor)/math.sqrt(32000000000*noOfValidators) ## base reward per increment\n",
    "## Attestation penalties page 109 in eth2book\n",
    "attestation_missing_penalty = 0.625*T*b ## page 107\n",
    "wrong_source_attestation = (-W_s-W_t)/W_Sigma\n",
    "MIN_SLASHING_PENALTY_QUOTIENT_BELLATRIX = 1/32 ##defined at page 116\n",
    "## correlation penalty page 117\n",
    "## other penalties"
   ]
  },
  {
   "cell_type": "code",
   "execution_count": 34,
   "id": "6cf3d1ff-9b32-4313-8fdb-3bd5fb867403",
   "metadata": {},
   "outputs": [],
   "source": [
    "## Relevant Pectra-EIPs for this work\n",
    "## EIP-7002\n",
    "## EIP-7549 Move the committee index out of the signature: more efficient attestation/signature aggregation "
   ]
  },
  {
   "cell_type": "code",
   "execution_count": 35,
   "id": "9e0900c3-14e7-4498-805d-d948f8616fd4",
   "metadata": {},
   "outputs": [
    {
     "name": "stdout",
     "output_type": "stream",
     "text": [
      "975298.6148563978 ETH issued per year\n",
      "2.8364064971488903 % APR\n"
     ]
    }
   ],
   "source": [
    "print(maxIssuancePerYear,\"ETH issued per year\")\n",
    "print(APR,\"% APR\")"
   ]
  },
  {
   "cell_type": "code",
   "execution_count": 36,
   "id": "8d759f16-1df6-4478-be2d-9b62e5491bc9",
   "metadata": {},
   "outputs": [
    {
     "name": "stdout",
     "output_type": "stream",
     "text": [
      "64\n"
     ]
    }
   ],
   "source": [
    "print(base_reward_factor)"
   ]
  },
  {
   "cell_type": "code",
   "execution_count": null,
   "id": "32b87b34-c8b3-43ac-9153-a14d9ffe3f89",
   "metadata": {},
   "outputs": [],
   "source": []
  }
 ],
 "metadata": {
  "kernelspec": {
   "display_name": "Python 3 (ipykernel)",
   "language": "python",
   "name": "python3"
  },
  "language_info": {
   "codemirror_mode": {
    "name": "ipython",
    "version": 3
   },
   "file_extension": ".py",
   "mimetype": "text/x-python",
   "name": "python",
   "nbconvert_exporter": "python",
   "pygments_lexer": "ipython3",
   "version": "3.13.2"
  }
 },
 "nbformat": 4,
 "nbformat_minor": 5
}
