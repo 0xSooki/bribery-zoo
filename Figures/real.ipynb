{
 "cells": [
  {
   "cell_type": "code",
   "execution_count": 37,
   "id": "61eed972",
   "metadata": {},
   "outputs": [],
   "source": [
    "N = 1_123_611\n",
    "alpha = 0.239\n",
    "A = int(alpha * N)\n",
    "N_ = int(N * alpha * 1 / (1 / 3))"
   ]
  },
  {
   "cell_type": "code",
   "execution_count": 38,
   "id": "a001a47d",
   "metadata": {},
   "outputs": [
    {
     "data": {
      "text/plain": [
       "317982"
      ]
     },
     "execution_count": 38,
     "metadata": {},
     "output_type": "execute_result"
    }
   ],
   "source": [
    "N - N_"
   ]
  },
  {
   "cell_type": "code",
   "execution_count": 39,
   "id": "5d106102",
   "metadata": {},
   "outputs": [
    {
     "data": {
      "text/plain": [
       "940.8672"
      ]
     },
     "execution_count": 39,
     "metadata": {},
     "output_type": "execute_result"
    }
   ],
   "source": [
    "2940.21 / 100 * 32"
   ]
  },
  {
   "cell_type": "code",
   "execution_count": 40,
   "id": "fa6dd123",
   "metadata": {},
   "outputs": [],
   "source": [
    "import math\n",
    "\n",
    "def R(k):\n",
    "    return 940.8672 / math.sqrt(k) + 345133.856 / (k)"
   ]
  },
  {
   "cell_type": "code",
   "execution_count": 41,
   "id": "0c612f5c",
   "metadata": {},
   "outputs": [],
   "source": [
    "PV = 1.08 ** (-9) / 0.08"
   ]
  },
  {
   "cell_type": "code",
   "execution_count": 42,
   "id": "50144bf3",
   "metadata": {},
   "outputs": [
    {
     "name": "stdout",
     "output_type": "stream",
     "text": [
      "9.233614836873562\n"
     ]
    }
   ],
   "source": [
    "b = R(N_) * PV\n",
    "print(b)"
   ]
  },
  {
   "cell_type": "code",
   "execution_count": 43,
   "id": "477f7688",
   "metadata": {},
   "outputs": [
    {
     "name": "stdout",
     "output_type": "stream",
     "text": [
      "2936123.313058729\n"
     ]
    }
   ],
   "source": [
    "cost = b * (N - N_)\n",
    "print(cost)"
   ]
  },
  {
   "cell_type": "code",
   "execution_count": 44,
   "id": "5f51da29",
   "metadata": {},
   "outputs": [
    {
     "data": {
      "text/plain": [
       "268543"
      ]
     },
     "execution_count": 44,
     "metadata": {},
     "output_type": "execute_result"
    }
   ],
   "source": [
    "A"
   ]
  },
  {
   "cell_type": "code",
   "execution_count": 45,
   "id": "6aa2a1b6",
   "metadata": {},
   "outputs": [
    {
     "name": "stdout",
     "output_type": "stream",
     "text": [
      "250541.1750883995\n"
     ]
    }
   ],
   "source": [
    "k = N - N_\n",
    "profit_needed = - (A * 9 * (R(N_) - R(N)) - b * k)\n",
    "print(profit_needed / 9)"
   ]
  }
 ],
 "metadata": {
  "kernelspec": {
   "display_name": "base",
   "language": "python",
   "name": "python3"
  },
  "language_info": {
   "codemirror_mode": {
    "name": "ipython",
    "version": 3
   },
   "file_extension": ".py",
   "mimetype": "text/x-python",
   "name": "python",
   "nbconvert_exporter": "python",
   "pygments_lexer": "ipython3",
   "version": "3.12.7"
  }
 },
 "nbformat": 4,
 "nbformat_minor": 5
}
